{
 "cells": [
  {
   "cell_type": "markdown",
   "id": "53349e7f-c41f-4d36-a70e-0191f8f290f1",
   "metadata": {},
   "source": [
    "### Rename this file to `class_index_BigO.ipynb`"
   ]
  },
  {
   "cell_type": "markdown",
   "id": "85ee08db-ddb6-46bd-a19e-396da1e02aea",
   "metadata": {},
   "source": [
    "#### Task 1: Power\n",
    "Write a user-defined function `mypow(a, x)` which will return the value of $a^x$. Your function should not use any math library functions or the `**` symbol.\n",
    "Using your solution, determine the Big-O of your algorithm.\n",
    "Example:\n",
    "`mypow(5, 6) == 15625`\n"
   ]
  },
  {
   "cell_type": "code",
   "execution_count": null,
   "id": "66e5a9aa-19a0-4f4e-8e2e-5e3ad6b98482",
   "metadata": {},
   "outputs": [],
   "source": [
    "## Task 1: Power\n",
    "def mypow(a, x):\n",
    "    if x == 0: # if x == 0, result will always be 1\n",
    "        return 1\n",
    "    elif x == 1:\n",
    "        return a # if x == 1, result will always be a\n",
    "    \n",
    "    if x < 0: # a^-x = (1/a)^x\n",
    "        a = 1 / a\n",
    "        x = -x\n",
    "\n",
    "    result = 1 # initialize result\n",
    "    while x > 0:\n",
    "        if x % 2 == 1: \n",
    "            # if x is odd, we do this to \n",
    "            # pretend the power is even:\n",
    "            # a^(x-1)+a = a^x\n",
    "            result *= a\n",
    "        \n",
    "        a *= a # square\n",
    "        x //= 2 # divide power by 2\n",
    "    return result\n",
    "\n"
   ]
  },
  {
   "cell_type": "markdown",
   "id": "15dc59a0-6a1b-4e6f-92e6-36c2740f6646",
   "metadata": {},
   "source": [
    "#### Task 2: MinValue\n",
    "Given a list of N integers and an integer, S. Find the minimum value of S consecutive integers.\n",
    "Using your solution, determine the Big-O of your algorithm.\n",
    "\n",
    "Example:  \n",
    "`N = [2, 5, 7, 8, 5, 1, 5, 3, 9]`  \n",
    "`S = 4`  \n",
    "Returns : `14` ⟹ {5, 1, 5, 3} is the smallest 4 consecutive integers. \n"
   ]
  },
  {
   "cell_type": "code",
   "execution_count": null,
   "id": "5556fdfa-9a05-4405-b6db-5e22dd8c6759",
   "metadata": {},
   "outputs": [
    {
     "name": "stdout",
     "output_type": "stream",
     "text": [
      "18\n"
     ]
    }
   ],
   "source": [
    "## Task 2: MinValue\n",
    "def minvalue(n, s):\n",
    "    window = n[:s]\n",
    "    for i in range(len(n)-s+1):\n",
    "        window = min(window, n[i:i+s])\n",
    "    return window\n",
    "\n",
    "print(minvalue([2, 5, 7, 8, 5, 1, 5, 3, 9], 4))"
   ]
  },
  {
   "cell_type": "markdown",
   "id": "ce8a79c8-c768-4420-af50-a7ffb7fc1bd5",
   "metadata": {},
   "source": [
    "#### Task : Zero-Sum\n",
    "Given four lists: A, B, C and D. There exists uniquely one value from each of the lists that sum up to zero.\n",
    "\n",
    "**$$\\exists! a \\in A, b \\in B, c \\in C, d \\in D : (a+b+c+d) = 0$$**  \n",
    "\n",
    "Find a, b, c, d, and state the Big-O for your algorithm.  \n",
    "Example:  \n",
    "`A = [ 5, 17, -8 ]`  \n",
    "`B = [ -13, 19 ]`  \n",
    "`C = [ 6, -9, 10, 0]`  \n",
    "`D = [ -14, 7]`  \n",
    "Returns: `17 -13 10 -14`  ⟹  a + b + c + d = 0"
   ]
  },
  {
   "cell_type": "code",
   "execution_count": null,
   "id": "75183a43-eecf-47f6-b0db-125a58adfe35",
   "metadata": {},
   "outputs": [],
   "source": []
  }
 ],
 "metadata": {
  "kernelspec": {
   "display_name": "Python 3",
   "language": "python",
   "name": "python3"
  },
  "language_info": {
   "codemirror_mode": {
    "name": "ipython",
    "version": 3
   },
   "file_extension": ".py",
   "mimetype": "text/x-python",
   "name": "python",
   "nbconvert_exporter": "python",
   "pygments_lexer": "ipython3",
   "version": "3.13.3"
  }
 },
 "nbformat": 4,
 "nbformat_minor": 5
}
